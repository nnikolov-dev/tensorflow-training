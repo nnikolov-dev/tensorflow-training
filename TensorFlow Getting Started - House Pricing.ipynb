{
 "cells": [
  {
   "cell_type": "markdown",
   "metadata": {},
   "source": [
    "# Part 2"
   ]
  },
  {
   "cell_type": "code",
   "execution_count": 1,
   "metadata": {},
   "outputs": [],
   "source": [
    "import numpy as np\n",
    "import math\n",
    "import matplotlib.pyplot as plt\n",
    "import matplotlib.animation as animation"
   ]
  },
  {
   "cell_type": "code",
   "execution_count": 2,
   "metadata": {},
   "outputs": [
    {
     "name": "stdout",
     "output_type": "stream",
     "text": [
      "WARNING:tensorflow:From c:\\users\\user\\appdata\\local\\programs\\python\\python37\\lib\\site-packages\\tensorflow_core\\python\\compat\\v2_compat.py:65: disable_resource_variables (from tensorflow.python.ops.variable_scope) is deprecated and will be removed in a future version.\n",
      "Instructions for updating:\n",
      "non-resource variables are not supported in the long term\n"
     ]
    }
   ],
   "source": [
    "import tensorflow.compat.v1 as tf\n",
    "tf.disable_v2_behavior() "
   ]
  },
  {
   "cell_type": "markdown",
   "metadata": {},
   "source": [
    "### Generate some house sizes between 1000 and 3500"
   ]
  },
  {
   "cell_type": "code",
   "execution_count": 3,
   "metadata": {},
   "outputs": [],
   "source": [
    "num_house = 160\n",
    "np.random.seed(42)\n",
    "house_size = np.random.randint(low=1000, high=3500, size=num_house)"
   ]
  },
  {
   "cell_type": "markdown",
   "metadata": {},
   "source": [
    "### Generate house prices from house size with a random noise added"
   ]
  },
  {
   "cell_type": "code",
   "execution_count": 4,
   "metadata": {},
   "outputs": [],
   "source": [
    "np.random.seed(42)\n",
    "house_price = house_size * 100.0 + np.random.randint(low=2000, high=70000, size=num_house)"
   ]
  },
  {
   "cell_type": "markdown",
   "metadata": {},
   "source": [
    "### Plot generated house and size"
   ]
  },
  {
   "cell_type": "code",
   "execution_count": 5,
   "metadata": {},
   "outputs": [
    {
     "data": {
      "image/png": "[encoded data removed]",
      "text/plain": [
       "<Figure size 432x288 with 1 Axes>"
      ]
     },
     "metadata": {
      "needs_background": "light"
     },
     "output_type": "display_data"
    }
   ],
   "source": [
    "# bx = blue\n",
    "plt.plot(house_size, house_price, \"bx\")\n",
    "plt.ylabel(\"Price\")\n",
    "plt.xlabel(\"Size\")\n",
    "plt.show()"
   ]
  },
  {
   "cell_type": "markdown",
   "metadata": {},
   "source": [
    "#### Concept\n",
    "* Prepared Data\n",
    "* Inference\n",
    "* Loss Measurement\n",
    "* Optimizer to Minimalize Loss\n",
    "#### Implementation\n",
    "* Generated house size and price data\n",
    "* Price = (sizeFactor * size) + priceOffset\n",
    "* Mean Square Error\n",
    "* Gradient Descent Optimizer"
   ]
  },
  {
   "cell_type": "markdown",
   "metadata": {},
   "source": [
    "### Normalize values to prevent under/overflows"
   ]
  },
  {
   "cell_type": "code",
   "execution_count": 6,
   "metadata": {},
   "outputs": [],
   "source": [
    "def normalize(array):\n",
    "    return (array - array.mean()) / array.std()"
   ]
  },
  {
   "cell_type": "markdown",
   "metadata": {},
   "source": [
    "### Splitting to training / testing"
   ]
  },
  {
   "cell_type": "code",
   "execution_count": 7,
   "metadata": {},
   "outputs": [],
   "source": [
    "num_train_samples = math.floor(num_house * 0.7)"
   ]
  },
  {
   "cell_type": "markdown",
   "metadata": {},
   "source": [
    "### Define training data"
   ]
  },
  {
   "cell_type": "code",
   "execution_count": 8,
   "metadata": {},
   "outputs": [],
   "source": [
    "train_house_size = np.asarray(house_size[:num_train_samples])\n",
    "train_price = np.asanyarray(house_price[:num_train_samples:])\n",
    "\n",
    "train_house_size_norm = normalize(train_house_size)\n",
    "train_price_norm = normalize(train_price)"
   ]
  },
  {
   "cell_type": "markdown",
   "metadata": {},
   "source": [
    "### Define testing data"
   ]
  },
  {
   "cell_type": "code",
   "execution_count": 9,
   "metadata": {},
   "outputs": [],
   "source": [
    "test_house_size = np.array(house_size[num_train_samples:])\n",
    "test_house_price = np.array(house_price[num_train_samples:])\n",
    "\n",
    "test_house_size_norm = normalize(test_house_size)\n",
    "test_price_norm = normalize(test_house_price)"
   ]
  },
  {
   "cell_type": "markdown",
   "metadata": {},
   "source": [
    "## Tensor Types\n",
    "* Constant - Constant Value\n",
    "* Variable - Values adjusted in graph\n",
    "* Placeholder - Used to pass data into graph"
   ]
  },
  {
   "cell_type": "markdown",
   "metadata": {},
   "source": [
    "### Set up the TensorFlow placeholders that get updated as we descend down the gradient"
   ]
  },
  {
   "cell_type": "code",
   "execution_count": 10,
   "metadata": {},
   "outputs": [],
   "source": [
    "tf_house_size = tf.placeholder(\"float\", name=\"house_size\")\n",
    "tf_price = tf.placeholder(\"float\", name=\"price\")"
   ]
  },
  {
   "cell_type": "markdown",
   "metadata": {},
   "source": [
    "### Define the variables holding the size_factor and price we set during training\n",
    "#### We initialize them to some random values based on the normal distribution"
   ]
  },
  {
   "cell_type": "code",
   "execution_count": 11,
   "metadata": {},
   "outputs": [],
   "source": [
    "tf_size_factor = tf.Variable(np.random.randn(), name=\"size_factor\")\n",
    "tf_price_offset = tf.Variable(np.random.randn(), name=\"price_offset\")"
   ]
  },
  {
   "cell_type": "markdown",
   "metadata": {},
   "source": [
    "### Define the operations for predicting values"
   ]
  },
  {
   "cell_type": "code",
   "execution_count": 12,
   "metadata": {},
   "outputs": [],
   "source": [
    "tf_price_pred = tf.add(tf.multiply(tf_size_factor, tf_house_size), tf_price_offset)"
   ]
  },
  {
   "cell_type": "markdown",
   "metadata": {},
   "source": [
    "### Define the Loss Function - MSE"
   ]
  },
  {
   "cell_type": "code",
   "execution_count": 13,
   "metadata": {},
   "outputs": [],
   "source": [
    "tf_cost = tf.reduce_sum(tf.pow(tf_price_pred - tf_price, 2)) / (2 * num_train_samples)"
   ]
  },
  {
   "cell_type": "markdown",
   "metadata": {},
   "source": [
    "### Optimizer learning rate. The size of the steps down the gradient"
   ]
  },
  {
   "cell_type": "code",
   "execution_count": 14,
   "metadata": {},
   "outputs": [],
   "source": [
    "learning_rate = 0.1"
   ]
  },
  {
   "cell_type": "markdown",
   "metadata": {},
   "source": [
    "### Define a Gradient Descent Optimizer that will minimize the loss defined in the operation"
   ]
  },
  {
   "cell_type": "code",
   "execution_count": 15,
   "metadata": {},
   "outputs": [],
   "source": [
    "optimizer = tf.train.GradientDescentOptimizer(learning_rate).minimize(tf_cost)"
   ]
  },
  {
   "cell_type": "markdown",
   "metadata": {},
   "source": [
    "### Initializing the variables"
   ]
  },
  {
   "cell_type": "code",
   "execution_count": 16,
   "metadata": {},
   "outputs": [],
   "source": [
    "init = tf.global_variables_initializer()"
   ]
  },
  {
   "cell_type": "markdown",
   "metadata": {},
   "source": [
    "### Launch the graph in the session"
   ]
  },
  {
   "cell_type": "code",
   "execution_count": 17,
   "metadata": {},
   "outputs": [
    {
     "ename": "InternalError",
     "evalue": "cudaGetDevice() failed. Status: cudaGetErrorString symbol not found.",
     "output_type": "error",
     "traceback": [
      "\u001b[1;31m---------------------------------------------------------------------------\u001b[0m",
      "\u001b[1;31mInternalError\u001b[0m                             Traceback (most recent call last)",
      "\u001b[1;32m<ipython-input-17-37c5641bfa50>\u001b[0m in \u001b[0;36m<module>\u001b[1;34m\u001b[0m\n\u001b[1;32m----> 1\u001b[1;33m \u001b[1;32mwith\u001b[0m \u001b[0mtf\u001b[0m\u001b[1;33m.\u001b[0m\u001b[0mSession\u001b[0m\u001b[1;33m(\u001b[0m\u001b[1;33m)\u001b[0m \u001b[1;32mas\u001b[0m \u001b[0msess\u001b[0m\u001b[1;33m:\u001b[0m\u001b[1;33m\u001b[0m\u001b[1;33m\u001b[0m\u001b[0m\n\u001b[0m\u001b[0;32m      2\u001b[0m     \u001b[0msess\u001b[0m\u001b[1;33m.\u001b[0m\u001b[0mrun\u001b[0m\u001b[1;33m(\u001b[0m\u001b[0minit\u001b[0m\u001b[1;33m)\u001b[0m\u001b[1;33m\u001b[0m\u001b[1;33m\u001b[0m\u001b[0m\n\u001b[0;32m      3\u001b[0m \u001b[1;33m\u001b[0m\u001b[0m\n\u001b[0;32m      4\u001b[0m     \u001b[0mdisplay_every\u001b[0m \u001b[1;33m=\u001b[0m \u001b[1;36m2\u001b[0m\u001b[1;33m\u001b[0m\u001b[1;33m\u001b[0m\u001b[0m\n\u001b[0;32m      5\u001b[0m     \u001b[0mnum_training_iter\u001b[0m \u001b[1;33m=\u001b[0m \u001b[1;36m50\u001b[0m\u001b[1;33m\u001b[0m\u001b[1;33m\u001b[0m\u001b[0m\n",
      "\u001b[1;32mc:\\users\\user\\appdata\\local\\programs\\python\\python37\\lib\\site-packages\\tensorflow_core\\python\\client\\session.py\u001b[0m in \u001b[0;36m__init__\u001b[1;34m(self, target, graph, config)\u001b[0m\n\u001b[0;32m   1583\u001b[0m           \u001b[0mprotocol\u001b[0m \u001b[0mbuffer\u001b[0m \u001b[1;32mwith\u001b[0m \u001b[0mconfiguration\u001b[0m \u001b[0moptions\u001b[0m \u001b[1;32mfor\u001b[0m \u001b[0mthe\u001b[0m \u001b[0msession\u001b[0m\u001b[1;33m.\u001b[0m\u001b[1;33m\u001b[0m\u001b[1;33m\u001b[0m\u001b[0m\n\u001b[0;32m   1584\u001b[0m     \"\"\"\n\u001b[1;32m-> 1585\u001b[1;33m     \u001b[0msuper\u001b[0m\u001b[1;33m(\u001b[0m\u001b[0mSession\u001b[0m\u001b[1;33m,\u001b[0m \u001b[0mself\u001b[0m\u001b[1;33m)\u001b[0m\u001b[1;33m.\u001b[0m\u001b[0m__init__\u001b[0m\u001b[1;33m(\u001b[0m\u001b[0mtarget\u001b[0m\u001b[1;33m,\u001b[0m \u001b[0mgraph\u001b[0m\u001b[1;33m,\u001b[0m \u001b[0mconfig\u001b[0m\u001b[1;33m=\u001b[0m\u001b[0mconfig\u001b[0m\u001b[1;33m)\u001b[0m\u001b[1;33m\u001b[0m\u001b[1;33m\u001b[0m\u001b[0m\n\u001b[0m\u001b[0;32m   1586\u001b[0m     \u001b[1;31m# NOTE(mrry): Create these on first `__enter__` to avoid a reference cycle.\u001b[0m\u001b[1;33m\u001b[0m\u001b[1;33m\u001b[0m\u001b[1;33m\u001b[0m\u001b[0m\n\u001b[0;32m   1587\u001b[0m     \u001b[0mself\u001b[0m\u001b[1;33m.\u001b[0m\u001b[0m_default_graph_context_manager\u001b[0m \u001b[1;33m=\u001b[0m \u001b[1;32mNone\u001b[0m\u001b[1;33m\u001b[0m\u001b[1;33m\u001b[0m\u001b[0m\n",
      "\u001b[1;32mc:\\users\\user\\appdata\\local\\programs\\python\\python37\\lib\\site-packages\\tensorflow_core\\python\\client\\session.py\u001b[0m in \u001b[0;36m__init__\u001b[1;34m(self, target, graph, config)\u001b[0m\n\u001b[0;32m    697\u001b[0m     \u001b[1;32mtry\u001b[0m\u001b[1;33m:\u001b[0m\u001b[1;33m\u001b[0m\u001b[1;33m\u001b[0m\u001b[0m\n\u001b[0;32m    698\u001b[0m       \u001b[1;31m# pylint: disable=protected-access\u001b[0m\u001b[1;33m\u001b[0m\u001b[1;33m\u001b[0m\u001b[1;33m\u001b[0m\u001b[0m\n\u001b[1;32m--> 699\u001b[1;33m       \u001b[0mself\u001b[0m\u001b[1;33m.\u001b[0m\u001b[0m_session\u001b[0m \u001b[1;33m=\u001b[0m \u001b[0mtf_session\u001b[0m\u001b[1;33m.\u001b[0m\u001b[0mTF_NewSessionRef\u001b[0m\u001b[1;33m(\u001b[0m\u001b[0mself\u001b[0m\u001b[1;33m.\u001b[0m\u001b[0m_graph\u001b[0m\u001b[1;33m.\u001b[0m\u001b[0m_c_graph\u001b[0m\u001b[1;33m,\u001b[0m \u001b[0mopts\u001b[0m\u001b[1;33m)\u001b[0m\u001b[1;33m\u001b[0m\u001b[1;33m\u001b[0m\u001b[0m\n\u001b[0m\u001b[0;32m    700\u001b[0m       \u001b[1;31m# pylint: enable=protected-access\u001b[0m\u001b[1;33m\u001b[0m\u001b[1;33m\u001b[0m\u001b[1;33m\u001b[0m\u001b[0m\n\u001b[0;32m    701\u001b[0m     \u001b[1;32mfinally\u001b[0m\u001b[1;33m:\u001b[0m\u001b[1;33m\u001b[0m\u001b[1;33m\u001b[0m\u001b[0m\n",
      "\u001b[1;31mInternalError\u001b[0m: cudaGetDevice() failed. Status: cudaGetErrorString symbol not found."
     ]
    }
   ],
   "source": [
    "with tf.Session() as sess:\n",
    "    sess.run(init)\n",
    "    \n",
    "    display_every = 2\n",
    "    num_training_iter = 50\n",
    "    \n",
    "#     keep iterating the training data\n",
    "    for iteration in range(num_training_iter):\n",
    "        \n",
    "#         fit all training data\n",
    "        for (x, y) in zip(train_house_size_norm, train_price_norm):\n",
    "            sess.run(optimizer, feed_dict={tf_house_size: x, tf_price: y})\n",
    "            \n",
    "#             display current status\n",
    "        if (iteration + 1) % display_every == 0:\n",
    "            c = sess.run(tf_cost, feed_dict={tf_house_size: train_house_size, tf_price: train_price_norm})\n",
    "            print(\"iteration #:\", '%04d' % (iteration + 1), \"cost=\", \"{:.9f}\".format(c), \\\n",
    "                  \"size_factor=\", sess.run(tf_size_factor), \"price_offset=\", sess.run(tf_price_offset))\n",
    "        \n",
    "    print(\"Optmisization Finished!\")\n",
    "    training_cost = sess.run(tf_cost, feed_dict={tf_house_size: train_house_size_norm, tf_price: train_price_norm})\n",
    "    print(\"Trained cost=\", training_cost, \"size_factor=\", sess.run(tf_size_factor), \"price_offset=\", sess.run(tf_price_offset), '\\n')\n",
    "    \n",
    "#     Plot of training and test data, and learned regression\n",
    "#     Get values used to normalized data so we can denormalize data back to its original scale\n",
    "    train_house_size_mean = train_house_size.mean()\n",
    "    train_house_size_std = train_house_size.std()\n",
    "    \n",
    "    train_price_mean = train_price.mean()\n",
    "    train_price_std = train_price.std()\n",
    "    \n",
    "#     Plot the graph\n",
    "    plt.rcParams[\"figure.figsize\"] = (10,8)\n",
    "    plt.figure()\n",
    "    plt.ylabel(\"Price\")\n",
    "    plt.xlabel(\"Size (sq.ft)\")\n",
    "    plt.plot(train_house_size, train_price, 'go', label=\"Training data\")\n",
    "    plt.plot(test_house_size, test_house_price, 'mo', label=\"Testing data\")\n",
    "    plt.plot(train_house_size_norm * train_house_size_std + train_house_size_mean,\n",
    "            (sess.run(tf_size_factor) * train_house_size_norm + sess.run(tf_price_offset)) * train_price_std + train_price_mean,\n",
    "            label=\"Learned Regression\")\n",
    "    plt.legend(loc=\"upper left\")\n",
    "    plt.show()"
   ]
  },
  {
   "cell_type": "markdown",
   "metadata": {},
   "source": [
    "## Tensor Properties\n",
    "### Dimensionality of a Tensor\n",
    "#### Rank\n",
    "* Rank 0 - Scalar -> 145\n",
    "* Rank 1 - Vector -> v = [1,3,2,5,7]\n",
    "* Rank 2 - Matrix -> m = [[1,2,3],[1,3,4,5]]\n",
    "* Rank 3 - 3-Tensor -> c = [[[1,5,6], [5,3,4]], [[1,5,6], [5,3,4]]], [[1,5,6], [5,3,4]]]]\n",
    "#### Shape\n",
    "Shape of data in Tensor. Related to Rank\n",
    "* Rank 0 - Scalar -> 145 -> []\n",
    "* Rank 1 - Vector -> v = [1,3,2,5,7] -> [5]\n",
    "* Rank 2 - Matrix -> m = [[1,2,3],[1,3,4]] -> [2,3]\n",
    "* Rank 3 - 3-Tensor -> c = [[[1,5,6], [5,3,4]], [[1,5,6], [5,3,4]]], [[1,5,6], [5,3,4]]]] -> [3,2,3]\n",
    "#### DataType\n",
    "* float32, float64\n",
    "* int8, int16, int32, int64\n",
    "* uint8, uint16\n",
    "* string\n",
    "* bool\n",
    "* complex65, complex128\n",
    "* qint8, qint16, quint8\n",
    "\n",
    "Quantitized values -> Scaled to reduce size, Processed faster`"
   ]
  },
  {
   "cell_type": "markdown",
   "metadata": {},
   "source": [
    "### Methods\n"
   ]
  },
  {
   "cell_type": "markdown",
   "metadata": {},
   "source": [
    "* get_shape() - Returns Shape\n",
    "* reshape() - Changes shape\n",
    "* rank - Returns rank\n",
    "* dtype - Returns data type\n",
    "* cast - Change data type"
   ]
  },
  {
   "cell_type": "markdown",
   "metadata": {},
   "source": [
    "## Gradient Descend"
   ]
  },
  {
   "cell_type": "code",
   "execution_count": 18,
   "metadata": {},
   "outputs": [
    {
     "ename": "InternalError",
     "evalue": "cudaGetDevice() failed. Status: cudaGetErrorString symbol not found.",
     "output_type": "error",
     "traceback": [
      "\u001b[1;31m---------------------------------------------------------------------------\u001b[0m",
      "\u001b[1;31mInternalError\u001b[0m                             Traceback (most recent call last)",
      "\u001b[1;32m<ipython-input-18-798e97b342e3>\u001b[0m in \u001b[0;36m<module>\u001b[1;34m\u001b[0m\n\u001b[1;32m----> 1\u001b[1;33m \u001b[1;32mwith\u001b[0m \u001b[0mtf\u001b[0m\u001b[1;33m.\u001b[0m\u001b[0mSession\u001b[0m\u001b[1;33m(\u001b[0m\u001b[1;33m)\u001b[0m \u001b[1;32mas\u001b[0m \u001b[0msess\u001b[0m\u001b[1;33m:\u001b[0m\u001b[1;33m\u001b[0m\u001b[1;33m\u001b[0m\u001b[0m\n\u001b[0m\u001b[0;32m      2\u001b[0m     \u001b[0msess\u001b[0m\u001b[1;33m.\u001b[0m\u001b[0mrun\u001b[0m\u001b[1;33m(\u001b[0m\u001b[0minit\u001b[0m\u001b[1;33m)\u001b[0m\u001b[1;33m\u001b[0m\u001b[1;33m\u001b[0m\u001b[0m\n\u001b[0;32m      3\u001b[0m \u001b[1;33m\u001b[0m\u001b[0m\n\u001b[0;32m      4\u001b[0m     \u001b[0mdisplay_every\u001b[0m \u001b[1;33m=\u001b[0m \u001b[1;36m2\u001b[0m\u001b[1;33m\u001b[0m\u001b[1;33m\u001b[0m\u001b[0m\n\u001b[0;32m      5\u001b[0m     \u001b[0mnum_training_iter\u001b[0m \u001b[1;33m=\u001b[0m \u001b[1;36m50\u001b[0m\u001b[1;33m\u001b[0m\u001b[1;33m\u001b[0m\u001b[0m\n",
      "\u001b[1;32mc:\\users\\user\\appdata\\local\\programs\\python\\python37\\lib\\site-packages\\tensorflow_core\\python\\client\\session.py\u001b[0m in \u001b[0;36m__init__\u001b[1;34m(self, target, graph, config)\u001b[0m\n\u001b[0;32m   1583\u001b[0m           \u001b[0mprotocol\u001b[0m \u001b[0mbuffer\u001b[0m \u001b[1;32mwith\u001b[0m \u001b[0mconfiguration\u001b[0m \u001b[0moptions\u001b[0m \u001b[1;32mfor\u001b[0m \u001b[0mthe\u001b[0m \u001b[0msession\u001b[0m\u001b[1;33m.\u001b[0m\u001b[1;33m\u001b[0m\u001b[1;33m\u001b[0m\u001b[0m\n\u001b[0;32m   1584\u001b[0m     \"\"\"\n\u001b[1;32m-> 1585\u001b[1;33m     \u001b[0msuper\u001b[0m\u001b[1;33m(\u001b[0m\u001b[0mSession\u001b[0m\u001b[1;33m,\u001b[0m \u001b[0mself\u001b[0m\u001b[1;33m)\u001b[0m\u001b[1;33m.\u001b[0m\u001b[0m__init__\u001b[0m\u001b[1;33m(\u001b[0m\u001b[0mtarget\u001b[0m\u001b[1;33m,\u001b[0m \u001b[0mgraph\u001b[0m\u001b[1;33m,\u001b[0m \u001b[0mconfig\u001b[0m\u001b[1;33m=\u001b[0m\u001b[0mconfig\u001b[0m\u001b[1;33m)\u001b[0m\u001b[1;33m\u001b[0m\u001b[1;33m\u001b[0m\u001b[0m\n\u001b[0m\u001b[0;32m   1586\u001b[0m     \u001b[1;31m# NOTE(mrry): Create these on first `__enter__` to avoid a reference cycle.\u001b[0m\u001b[1;33m\u001b[0m\u001b[1;33m\u001b[0m\u001b[1;33m\u001b[0m\u001b[0m\n\u001b[0;32m   1587\u001b[0m     \u001b[0mself\u001b[0m\u001b[1;33m.\u001b[0m\u001b[0m_default_graph_context_manager\u001b[0m \u001b[1;33m=\u001b[0m \u001b[1;32mNone\u001b[0m\u001b[1;33m\u001b[0m\u001b[1;33m\u001b[0m\u001b[0m\n",
      "\u001b[1;32mc:\\users\\user\\appdata\\local\\programs\\python\\python37\\lib\\site-packages\\tensorflow_core\\python\\client\\session.py\u001b[0m in \u001b[0;36m__init__\u001b[1;34m(self, target, graph, config)\u001b[0m\n\u001b[0;32m    697\u001b[0m     \u001b[1;32mtry\u001b[0m\u001b[1;33m:\u001b[0m\u001b[1;33m\u001b[0m\u001b[1;33m\u001b[0m\u001b[0m\n\u001b[0;32m    698\u001b[0m       \u001b[1;31m# pylint: disable=protected-access\u001b[0m\u001b[1;33m\u001b[0m\u001b[1;33m\u001b[0m\u001b[1;33m\u001b[0m\u001b[0m\n\u001b[1;32m--> 699\u001b[1;33m       \u001b[0mself\u001b[0m\u001b[1;33m.\u001b[0m\u001b[0m_session\u001b[0m \u001b[1;33m=\u001b[0m \u001b[0mtf_session\u001b[0m\u001b[1;33m.\u001b[0m\u001b[0mTF_NewSessionRef\u001b[0m\u001b[1;33m(\u001b[0m\u001b[0mself\u001b[0m\u001b[1;33m.\u001b[0m\u001b[0m_graph\u001b[0m\u001b[1;33m.\u001b[0m\u001b[0m_c_graph\u001b[0m\u001b[1;33m,\u001b[0m \u001b[0mopts\u001b[0m\u001b[1;33m)\u001b[0m\u001b[1;33m\u001b[0m\u001b[1;33m\u001b[0m\u001b[0m\n\u001b[0m\u001b[0;32m    700\u001b[0m       \u001b[1;31m# pylint: enable=protected-access\u001b[0m\u001b[1;33m\u001b[0m\u001b[1;33m\u001b[0m\u001b[1;33m\u001b[0m\u001b[0m\n\u001b[0;32m    701\u001b[0m     \u001b[1;32mfinally\u001b[0m\u001b[1;33m:\u001b[0m\u001b[1;33m\u001b[0m\u001b[1;33m\u001b[0m\u001b[0m\n",
      "\u001b[1;31mInternalError\u001b[0m: cudaGetDevice() failed. Status: cudaGetErrorString symbol not found."
     ]
    }
   ],
   "source": [
    "with tf.Session() as sess:\n",
    "    sess.run(init)\n",
    "    \n",
    "    display_every = 2\n",
    "    num_training_iter = 50\n",
    "    \n",
    "#     calculate the number of lines to animation\n",
    "    fit_num_plots = math.floor(num_training_iter / display_every)\n",
    "    \n",
    "#     add storage of factor and offset values from each epoch\n",
    "    fit_size_factor = np.zeros(fit_num_plots)\n",
    "    fit_price_offsets = np.zeros(fit_num_plots)\n",
    "    fit_plot_idx = 0\n",
    "    \n",
    "#     keep iterating the training data\n",
    "    for iteration in range(num_training_iter):\n",
    "        \n",
    "#         fit all training data\n",
    "        for (x, y) in zip(train_house_size_norm, train_price_norm):\n",
    "            sess.run(optimizer, feed_dict={tf_house_size: x, tf_price: y})\n",
    "            \n",
    "#             display current status\n",
    "        if (iteration + 1) % display_every == 0:\n",
    "            c = sess.run(tf_cost, feed_dict={tf_house_size: train_house_size, tf_price: train_price_norm})\n",
    "            print(\"iteration #:\", '%04d' % (iteration + 1), \"cost=\", \"{:.9f}\".format(c), \\\n",
    "                  \"size_factor=\", sess.run(tf_size_factor), \"price_offset=\", sess.run(tf_price_offset))\n",
    "            \n",
    "        \n",
    "#             save the fit size_factor and price_offset to allow animation of learning process\n",
    "            fit_size_factor[fit_plot_idx] = sess.run(tf_size_factor)\n",
    "            fit_price_offsets[fit_plot_idx] = sess.run(tf_price_offset)\n",
    "            fit_plot_idx = fit_plot_idx + 1\n",
    "        \n",
    "    print(\"Optmisization Finished!\")\n",
    "    training_cost = sess.run(tf_cost, feed_dict={tf_house_size: train_house_size_norm, tf_price: train_price_norm})\n",
    "    print(\"Trained cost=\", training_cost, \"size_factor=\", sess.run(tf_size_factor), \"price_offset=\", sess.run(tf_price_offset), '\\n')\n",
    "    \n",
    "#     plot of training and test data, and learned regression\n",
    "#     get values used to normalized data so we can denormalize data back to its original scale\n",
    "    train_house_size_mean = train_house_size.mean()\n",
    "    train_house_size_std = train_house_size.std()\n",
    "    \n",
    "    train_price_mean = train_price.mean()\n",
    "    train_price_std = train_price.std()\n",
    "    \n",
    "#     plot another graph that shows the animation of how gradient descend sequentually adjusted size_factor and price_offset to find the values that returned the \"best\" fit line\n",
    "    fig, ax = plt.subplots()\n",
    "    line, = ax.plot(house_size, house_price)\n",
    "    plt.rcParams[\"figure.figsize\"] = (10,8)\n",
    "    plt.title(\"Gradient Descent Fitting Regression Line\")\n",
    "    plt.ylabel(\"Price\")\n",
    "    plt.xlabel(\"Size (sq.ft)\")\n",
    "    plt.plot(train_house_size, train_price, 'go', label=\"Training data\")\n",
    "    plt.plot(test_house_size, test_house_price, 'mo', label=\"Testing data\")\n",
    "    \n",
    "    def animate(i):\n",
    "        line.set_xdata(train_house_size_norm * train_house_size_std + train_house_size_mean)\n",
    "        line.set_ydata((fit_size_factor[i] * train_house_size_norm + fit_price_offsets[i]) * train_price_std + train_price_mean)\n",
    "        return line,\n",
    "    \n",
    "#     init only for blitting to give clean state\n",
    "    def initAnim():\n",
    "        line.set_ydata(np.zeros(shape=house_price.shape[0]))\n",
    "        return line,\n",
    "    \n",
    "    ani = animation.FuncAnimation(fig, animate, frames=np.arange(0, fit_plot_idx), init_func=initAnim,\n",
    "                                 interval=1000, blit=True)\n",
    "\n",
    "    plt.show()\n",
    "    "
   ]
  },
  {
   "cell_type": "code",
   "execution_count": null,
   "metadata": {},
   "outputs": [],
   "source": []
  },
  {
   "cell_type": "code",
   "execution_count": null,
   "metadata": {},
   "outputs": [],
   "source": []
  },
  {
   "cell_type": "code",
   "execution_count": null,
   "metadata": {},
   "outputs": [],
   "source": []
  }
 ],
 "metadata": {
  "kernelspec": {
   "display_name": "Python 3",
   "language": "python",
   "name": "python3"
  },
  "language_info": {
   "codemirror_mode": {
    "name": "ipython",
    "version": 3
   },
   "file_extension": ".py",
   "mimetype": "text/x-python",
   "name": "python",
   "nbconvert_exporter": "python",
   "pygments_lexer": "ipython3",
   "version": "3.7.6"
  }
 },
 "nbformat": 4,
 "nbformat_minor": 2
}
