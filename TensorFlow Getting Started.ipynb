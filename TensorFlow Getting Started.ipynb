{
 "cells": [
  {
   "cell_type": "markdown",
   "metadata": {},
   "source": [
    "# Part 2"
   ]
  },
  {
   "cell_type": "code",
   "execution_count": 38,
   "metadata": {},
   "outputs": [],
   "source": [
    "import numpy as np\n",
    "import math\n",
    "import matplotlib.pyplot as plt\n",
    "import matplotlib.animation as animation"
   ]
  },
  {
   "cell_type": "code",
   "execution_count": 23,
   "metadata": {},
   "outputs": [],
   "source": [
    "import tensorflow.compat.v1 as tf\n",
    "tf.disable_v2_behavior() "
   ]
  },
  {
   "cell_type": "markdown",
   "metadata": {},
   "source": [
    "### Generate some house sizes between 1000 and 3500"
   ]
  },
  {
   "cell_type": "code",
   "execution_count": 4,
   "metadata": {},
   "outputs": [],
   "source": [
    "num_house = 160\n",
    "np.random.seed(42)\n",
    "house_size = np.random.randint(low=1000, high=3500, size=num_house)"
   ]
  },
  {
   "cell_type": "markdown",
   "metadata": {},
   "source": [
    "### Generate house prices from house size with a random noise added"
   ]
  },
  {
   "cell_type": "code",
   "execution_count": 5,
   "metadata": {},
   "outputs": [],
   "source": [
    "np.random.seed(42)\n",
    "house_price = house_size * 100.0 + np.random.randint(low=2000, high=70000, size=num_house)"
   ]
  },
  {
   "cell_type": "markdown",
   "metadata": {},
   "source": [
    "### Plot generated house and size"
   ]
  },
  {
   "cell_type": "code",
   "execution_count": 7,
   "metadata": {},
   "outputs": [
    {
     "data": {
      "image/png": "[encoded data removed]",
      "text/plain": [
       "<Figure size 432x288 with 1 Axes>"
      ]
     },
     "metadata": {
      "needs_background": "light"
     },
     "output_type": "display_data"
    }
   ],
   "source": [
    "# bx = blue\n",
    "plt.plot(house_size, house_price, \"bx\")\n",
    "plt.ylabel(\"Price\")\n",
    "plt.xlabel(\"Size\")\n",
    "plt.show()"
   ]
  },
  {
   "cell_type": "markdown",
   "metadata": {},
   "source": [
    "#### Concept\n",
    "* Prepared Data\n",
    "* Inference\n",
    "* Loss Measurement\n",
    "* Optimizer to Minimalize Loss\n",
    "#### Implementation\n",
    "* Generated house size and price data\n",
    "* Price = (sizeFactor * size) + priceOffset\n",
    "* Mean Square Error\n",
    "* Gradient Descent Optimizer"
   ]
  },
  {
   "cell_type": "markdown",
   "metadata": {},
   "source": [
    "### Normalize values to prevent under/overflows"
   ]
  },
  {
   "cell_type": "code",
   "execution_count": 8,
   "metadata": {},
   "outputs": [],
   "source": [
    "def normalize(array):\n",
    "    return (array - array.mean()) / array.std()"
   ]
  },
  {
   "cell_type": "markdown",
   "metadata": {},
   "source": [
    "### Splitting to training / testing"
   ]
  },
  {
   "cell_type": "code",
   "execution_count": 9,
   "metadata": {},
   "outputs": [],
   "source": [
    "num_train_samples = math.floor(num_house * 0.7)"
   ]
  },
  {
   "cell_type": "markdown",
   "metadata": {},
   "source": [
    "### Define training data"
   ]
  },
  {
   "cell_type": "code",
   "execution_count": 10,
   "metadata": {},
   "outputs": [],
   "source": [
    "train_house_size = np.asarray(house_size[:num_train_samples])\n",
    "train_price = np.asanyarray(house_price[:num_train_samples:])\n",
    "\n",
    "train_house_size_norm = normalize(train_house_size)\n",
    "train_price_norm = normalize(train_price)"
   ]
  },
  {
   "cell_type": "markdown",
   "metadata": {},
   "source": [
    "### Define testing data"
   ]
  },
  {
   "cell_type": "code",
   "execution_count": 12,
   "metadata": {},
   "outputs": [],
   "source": [
    "test_house_size = np.array(house_size[num_train_samples:])\n",
    "test_house_price = np.array(house_price[num_train_samples:])\n",
    "\n",
    "test_house_size_norm = normalize(test_house_size)\n",
    "test_price_norm = normalize(test_house_price)"
   ]
  },
  {
   "cell_type": "markdown",
   "metadata": {},
   "source": [
    "## Tensor Types\n",
    "* Constant - Constant Value\n",
    "* Variable - Values adjusted in graph\n",
    "* Placeholder - Used to pass data into graph"
   ]
  },
  {
   "cell_type": "markdown",
   "metadata": {},
   "source": [
    "### Set up the TensorFlow placeholders that get updated as we descend down the gradient"
   ]
  },
  {
   "cell_type": "code",
   "execution_count": 24,
   "metadata": {},
   "outputs": [],
   "source": [
    "tf_house_size = tf.placeholder(\"float\", name=\"house_size\")\n",
    "tf_price = tf.placeholder(\"float\", name=\"price\")"
   ]
  },
  {
   "cell_type": "markdown",
   "metadata": {},
   "source": [
    "### Define the variables holding the size_factor and price we set during training\n",
    "#### We initialize them to some random values based on the normal distribution"
   ]
  },
  {
   "cell_type": "code",
   "execution_count": 25,
   "metadata": {},
   "outputs": [],
   "source": [
    "tf_size_factor = tf.Variable(np.random.randn(), name=\"size_factor\")\n",
    "tf_price_offset = tf.Variable(np.random.randn(), name=\"price_offset\")"
   ]
  },
  {
   "cell_type": "markdown",
   "metadata": {},
   "source": [
    "### Define the operations for predicting values"
   ]
  },
  {
   "cell_type": "code",
   "execution_count": 26,
   "metadata": {},
   "outputs": [],
   "source": [
    "tf_price_pred = tf.add(tf.multiply(tf_size_factor, tf_house_size), tf_price_offset)"
   ]
  },
  {
   "cell_type": "markdown",
   "metadata": {},
   "source": [
    "### Define the Loss Function - MSE"
   ]
  },
  {
   "cell_type": "code",
   "execution_count": 27,
   "metadata": {},
   "outputs": [],
   "source": [
    "tf_cost = tf.reduce_sum(tf.pow(tf_price_pred - tf_price, 2)) / (2 * num_train_samples)"
   ]
  },
  {
   "cell_type": "markdown",
   "metadata": {},
   "source": [
    "### Optimizer learning rate. The size of the steps down the gradient"
   ]
  },
  {
   "cell_type": "code",
   "execution_count": 28,
   "metadata": {},
   "outputs": [],
   "source": [
    "learning_rate = 0.1"
   ]
  },
  {
   "cell_type": "markdown",
   "metadata": {},
   "source": [
    "### Define a Gradient Descent Optimizer that will minimize the loss defined in the operation"
   ]
  },
  {
   "cell_type": "code",
   "execution_count": 30,
   "metadata": {},
   "outputs": [],
   "source": [
    "optimizer = tf.train.GradientDescentOptimizer(learning_rate).minimize(tf_cost)"
   ]
  },
  {
   "cell_type": "markdown",
   "metadata": {},
   "source": [
    "### Initializing the variables"
   ]
  },
  {
   "cell_type": "code",
   "execution_count": 32,
   "metadata": {},
   "outputs": [],
   "source": [
    "init = tf.global_variables_initializer()"
   ]
  },
  {
   "cell_type": "markdown",
   "metadata": {},
   "source": [
    "### Launch the graph in the session"
   ]
  },
  {
   "cell_type": "code",
   "execution_count": 37,
   "metadata": {},
   "outputs": [
    {
     "name": "stdout",
     "output_type": "stream",
     "text": [
      "iteration #: 0002 cost= 3979586.250000000 size_factor= 1.1710793 price_offset= -0.31882685\n",
      "iteration #: 0004 cost= 3722666.750000000 size_factor= 1.1326317 price_offset= -0.2610093\n",
      "iteration #: 0006 cost= 3518750.750000000 size_factor= 1.1011611 price_offset= -0.21368115\n",
      "iteration #: 0008 cost= 3356108.250000000 size_factor= 1.0754007 price_offset= -0.1749394\n",
      "iteration #: 0010 cost= 3225848.750000000 size_factor= 1.0543157 price_offset= -0.14322615\n",
      "iteration #: 0012 cost= 3121141.250000000 size_factor= 1.0370561 price_offset= -0.11726636\n",
      "iteration #: 0014 cost= 3036721.750000000 size_factor= 1.0229288 price_offset= -0.09601622\n",
      "iteration #: 0016 cost= 2968485.000000000 size_factor= 1.0113655 price_offset= -0.07862125\n",
      "iteration #: 0018 cost= 2913204.250000000 size_factor= 1.0019 price_offset= -0.06438211\n",
      "iteration #: 0020 cost= 2868346.250000000 size_factor= 0.9941527 price_offset= -0.05272628\n",
      "iteration #: 0022 cost= 2831887.250000000 size_factor= 0.98781145 price_offset= -0.04318506\n",
      "iteration #: 0024 cost= 2802216.750000000 size_factor= 0.9826206 price_offset= -0.03537484\n",
      "iteration #: 0026 cost= 2778047.250000000 size_factor= 0.97837186 price_offset= -0.028981516\n",
      "iteration #: 0028 cost= 2758340.750000000 size_factor= 0.9748939 price_offset= -0.023748064\n",
      "iteration #: 0030 cost= 2742263.000000000 size_factor= 0.9720472 price_offset= -0.019464092\n",
      "iteration #: 0032 cost= 2729139.000000000 size_factor= 0.9697173 price_offset= -0.015957313\n",
      "iteration #: 0034 cost= 2718419.500000000 size_factor= 0.96781015 price_offset= -0.01308674\n",
      "iteration #: 0036 cost= 2709659.250000000 size_factor= 0.96624875 price_offset= -0.01073695\n",
      "iteration #: 0038 cost= 2702499.000000000 size_factor= 0.96497065 price_offset= -0.008813449\n",
      "iteration #: 0040 cost= 2696646.750000000 size_factor= 0.96392477 price_offset= -0.0072389212\n",
      "iteration #: 0042 cost= 2691860.750000000 size_factor= 0.96306854 price_offset= -0.0059500416\n",
      "iteration #: 0044 cost= 2687947.750000000 size_factor= 0.962368 price_offset= -0.0048949905\n",
      "iteration #: 0046 cost= 2684744.000000000 size_factor= 0.9617941 price_offset= -0.0040313485\n",
      "iteration #: 0048 cost= 2682121.000000000 size_factor= 0.9613239 price_offset= -0.0033243885\n",
      "iteration #: 0050 cost= 2679981.250000000 size_factor= 0.9609401 price_offset= -0.0027456852\n",
      "Optmisization Finished!\n",
      "Trained cost= 0.03962396 size_factor= 0.9609401 price_offset= -0.0027456852 \n",
      "\n"
     ]
    },
    {
     "data": {
      "image/png": "[encoded data removed]",
      "text/plain": [
       "<Figure size 720x576 with 1 Axes>"
      ]
     },
     "metadata": {
      "needs_background": "light"
     },
     "output_type": "display_data"
    }
   ],
   "source": [
    "with tf.Session() as sess:\n",
    "    sess.run(init)\n",
    "    \n",
    "    display_every = 2\n",
    "    num_training_iter = 50\n",
    "    \n",
    "#     keep iterating the training data\n",
    "    for iteration in range(num_training_iter):\n",
    "        \n",
    "#         fit all training data\n",
    "        for (x, y) in zip(train_house_size_norm, train_price_norm):\n",
    "            sess.run(optimizer, feed_dict={tf_house_size: x, tf_price: y})\n",
    "            \n",
    "#             display current status\n",
    "        if (iteration + 1) % display_every == 0:\n",
    "            c = sess.run(tf_cost, feed_dict={tf_house_size: train_house_size, tf_price: train_price_norm})\n",
    "            print(\"iteration #:\", '%04d' % (iteration + 1), \"cost=\", \"{:.9f}\".format(c), \\\n",
    "                  \"size_factor=\", sess.run(tf_size_factor), \"price_offset=\", sess.run(tf_price_offset))\n",
    "        \n",
    "    print(\"Optmisization Finished!\")\n",
    "    training_cost = sess.run(tf_cost, feed_dict={tf_house_size: train_house_size_norm, tf_price: train_price_norm})\n",
    "    print(\"Trained cost=\", training_cost, \"size_factor=\", sess.run(tf_size_factor), \"price_offset=\", sess.run(tf_price_offset), '\\n')\n",
    "    \n",
    "#     Plot of training and test data, and learned regression\n",
    "#     Get values used to normalized data so we can denormalize data back to its original scale\n",
    "    train_house_size_mean = train_house_size.mean()\n",
    "    train_house_size_std = train_house_size.std()\n",
    "    \n",
    "    train_price_mean = train_price.mean()\n",
    "    train_price_std = train_price.std()\n",
    "    \n",
    "#     Plot the graph\n",
    "    plt.rcParams[\"figure.figsize\"] = (10,8)\n",
    "    plt.figure()\n",
    "    plt.ylabel(\"Price\")\n",
    "    plt.xlabel(\"Size (sq.ft)\")\n",
    "    plt.plot(train_house_size, train_price, 'go', label=\"Training data\")\n",
    "    plt.plot(test_house_size, test_house_price, 'mo', label=\"Testing data\")\n",
    "    plt.plot(train_house_size_norm * train_house_size_std + train_house_size_mean,\n",
    "            (sess.run(tf_size_factor) * train_house_size_norm + sess.run(tf_price_offset)) * train_price_std + train_price_mean,\n",
    "            label=\"Learned Regression\")\n",
    "    plt.legend(loc=\"upper left\")\n",
    "    plt.show()"
   ]
  },
  {
   "cell_type": "markdown",
   "metadata": {},
   "source": [
    "## Tensor Properties\n",
    "### Dimensionality of a Tensor\n",
    "#### Rank\n",
    "* Rank 0 - Scalar -> 145\n",
    "* Rank 1 - Vector -> v = [1,3,2,5,7]\n",
    "* Rank 2 - Matrix -> m = [[1,2,3],[1,3,4,5]]\n",
    "* Rank 3 - 3-Tensor -> c = [[[1,5,6], [5,3,4]], [[1,5,6], [5,3,4]]], [[1,5,6], [5,3,4]]]]\n",
    "#### Shape\n",
    "Shape of data in Tensor. Related to Rank\n",
    "* Rank 0 - Scalar -> 145 -> []\n",
    "* Rank 1 - Vector -> v = [1,3,2,5,7] -> [5]\n",
    "* Rank 2 - Matrix -> m = [[1,2,3],[1,3,4]] -> [2,3]\n",
    "* Rank 3 - 3-Tensor -> c = [[[1,5,6], [5,3,4]], [[1,5,6], [5,3,4]]], [[1,5,6], [5,3,4]]]] -> [3,2,3]\n",
    "#### DataType\n",
    "* float32, float64\n",
    "* int8, int16, int32, int64\n",
    "* uint8, uint16\n",
    "* string\n",
    "* bool\n",
    "* complex65, complex128\n",
    "* qint8, qint16, quint8\n",
    "\n",
    "Quantitized values -> Scaled to reduce size, Processed faster`"
   ]
  },
  {
   "cell_type": "markdown",
   "metadata": {},
   "source": [
    "### Methods\n"
   ]
  },
  {
   "cell_type": "markdown",
   "metadata": {},
   "source": [
    "* get_shape() - Returns Shape\n",
    "* reshape() - Changes shape\n",
    "* rank - Returns rank\n",
    "* dtype - Returns data type\n",
    "* cast - Change data type"
   ]
  },
  {
   "cell_type": "markdown",
   "metadata": {},
   "source": [
    "## Gradient Descend"
   ]
  },
  {
   "cell_type": "code",
   "execution_count": 49,
   "metadata": {},
   "outputs": [
    {
     "name": "stdout",
     "output_type": "stream",
     "text": [
      "iteration #: 0002 cost= 3979586.250000000 size_factor= 1.1710793 price_offset= -0.31882685\n",
      "iteration #: 0004 cost= 3722666.750000000 size_factor= 1.1326317 price_offset= -0.2610093\n",
      "iteration #: 0006 cost= 3518750.750000000 size_factor= 1.1011611 price_offset= -0.21368115\n",
      "iteration #: 0008 cost= 3356108.250000000 size_factor= 1.0754007 price_offset= -0.1749394\n",
      "iteration #: 0010 cost= 3225848.750000000 size_factor= 1.0543157 price_offset= -0.14322615\n",
      "iteration #: 0012 cost= 3121141.250000000 size_factor= 1.0370561 price_offset= -0.11726636\n",
      "iteration #: 0014 cost= 3036721.750000000 size_factor= 1.0229288 price_offset= -0.09601622\n",
      "iteration #: 0016 cost= 2968485.000000000 size_factor= 1.0113655 price_offset= -0.07862125\n",
      "iteration #: 0018 cost= 2913204.250000000 size_factor= 1.0019 price_offset= -0.06438211\n",
      "iteration #: 0020 cost= 2868346.250000000 size_factor= 0.9941527 price_offset= -0.05272628\n",
      "iteration #: 0022 cost= 2831887.250000000 size_factor= 0.98781145 price_offset= -0.04318506\n",
      "iteration #: 0024 cost= 2802216.750000000 size_factor= 0.9826206 price_offset= -0.03537484\n",
      "iteration #: 0026 cost= 2778047.250000000 size_factor= 0.97837186 price_offset= -0.028981516\n",
      "iteration #: 0028 cost= 2758340.750000000 size_factor= 0.9748939 price_offset= -0.023748064\n",
      "iteration #: 0030 cost= 2742263.000000000 size_factor= 0.9720472 price_offset= -0.019464092\n",
      "iteration #: 0032 cost= 2729139.000000000 size_factor= 0.9697173 price_offset= -0.015957313\n",
      "iteration #: 0034 cost= 2718419.500000000 size_factor= 0.96781015 price_offset= -0.01308674\n",
      "iteration #: 0036 cost= 2709659.250000000 size_factor= 0.96624875 price_offset= -0.01073695\n",
      "iteration #: 0038 cost= 2702499.000000000 size_factor= 0.96497065 price_offset= -0.008813449\n",
      "iteration #: 0040 cost= 2696646.750000000 size_factor= 0.96392477 price_offset= -0.0072389212\n",
      "iteration #: 0042 cost= 2691860.750000000 size_factor= 0.96306854 price_offset= -0.0059500416\n",
      "iteration #: 0044 cost= 2687947.750000000 size_factor= 0.962368 price_offset= -0.0048949905\n",
      "iteration #: 0046 cost= 2684744.000000000 size_factor= 0.9617941 price_offset= -0.0040313485\n",
      "iteration #: 0048 cost= 2682121.000000000 size_factor= 0.9613239 price_offset= -0.0033243885\n",
      "iteration #: 0050 cost= 2679981.250000000 size_factor= 0.9609401 price_offset= -0.0027456852\n",
      "Optmisization Finished!\n",
      "Trained cost= 0.03962396 size_factor= 0.9609401 price_offset= -0.0027456852 \n",
      "\n"
     ]
    },
    {
     "data": {
      "image/png": "[encoded data removed]",
      "text/plain": [
       "<Figure size 720x576 with 1 Axes>"
      ]
     },
     "metadata": {
      "needs_background": "light"
     },
     "output_type": "display_data"
    }
   ],
   "source": [
    "with tf.Session() as sess:\n",
    "    sess.run(init)\n",
    "    \n",
    "    display_every = 2\n",
    "    num_training_iter = 50\n",
    "    \n",
    "#     calculate the number of lines to animation\n",
    "    fit_num_plots = math.floor(num_training_iter / display_every)\n",
    "    \n",
    "#     add storage of factor and offset values from each epoch\n",
    "    fit_size_factor = np.zeros(fit_num_plots)\n",
    "    fit_price_offsets = np.zeros(fit_num_plots)\n",
    "    fit_plot_idx = 0\n",
    "    \n",
    "#     keep iterating the training data\n",
    "    for iteration in range(num_training_iter):\n",
    "        \n",
    "#         fit all training data\n",
    "        for (x, y) in zip(train_house_size_norm, train_price_norm):\n",
    "            sess.run(optimizer, feed_dict={tf_house_size: x, tf_price: y})\n",
    "            \n",
    "#             display current status\n",
    "        if (iteration + 1) % display_every == 0:\n",
    "            c = sess.run(tf_cost, feed_dict={tf_house_size: train_house_size, tf_price: train_price_norm})\n",
    "            print(\"iteration #:\", '%04d' % (iteration + 1), \"cost=\", \"{:.9f}\".format(c), \\\n",
    "                  \"size_factor=\", sess.run(tf_size_factor), \"price_offset=\", sess.run(tf_price_offset))\n",
    "            \n",
    "        \n",
    "#             save the fit size_factor and price_offset to allow animation of learning process\n",
    "            fit_size_factor[fit_plot_idx] = sess.run(tf_size_factor)\n",
    "            fit_price_offsets[fit_plot_idx] = sess.run(tf_price_offset)\n",
    "            fit_plot_idx = fit_plot_idx + 1\n",
    "        \n",
    "    print(\"Optmisization Finished!\")\n",
    "    training_cost = sess.run(tf_cost, feed_dict={tf_house_size: train_house_size_norm, tf_price: train_price_norm})\n",
    "    print(\"Trained cost=\", training_cost, \"size_factor=\", sess.run(tf_size_factor), \"price_offset=\", sess.run(tf_price_offset), '\\n')\n",
    "    \n",
    "#     plot of training and test data, and learned regression\n",
    "#     get values used to normalized data so we can denormalize data back to its original scale\n",
    "    train_house_size_mean = train_house_size.mean()\n",
    "    train_house_size_std = train_house_size.std()\n",
    "    \n",
    "    train_price_mean = train_price.mean()\n",
    "    train_price_std = train_price.std()\n",
    "    \n",
    "#     plot another graph that shows the animation of how gradient descend sequentually adjusted size_factor and price_offset to find the values that returned the \"best\" fit line\n",
    "    fig, ax = plt.subplots()\n",
    "    line, = ax.plot(house_size, house_price)\n",
    "    plt.rcParams[\"figure.figsize\"] = (10,8)\n",
    "    plt.title(\"Gradient Descent Fitting Regression Line\")\n",
    "    plt.ylabel(\"Price\")\n",
    "    plt.xlabel(\"Size (sq.ft)\")\n",
    "    plt.plot(train_house_size, train_price, 'go', label=\"Training data\")\n",
    "    plt.plot(test_house_size, test_house_price, 'mo', label=\"Testing data\")\n",
    "    \n",
    "    def animate(i):\n",
    "        line.set_xdata(train_house_size_norm * train_house_size_std + train_house_size_mean)\n",
    "        line.set_ydata((fit_size_factor[i] * train_house_size_norm + fit_price_offsets[i]) * train_price_std + train_price_mean)\n",
    "        return line,\n",
    "    \n",
    "#     init only for blitting to give clean state\n",
    "    def initAnim():\n",
    "        line.set_ydata(np.zeros(shape=house_price.shape[0]))\n",
    "        return line,\n",
    "    \n",
    "    ani = animation.FuncAnimation(fig, animate, frames=np.arange(0, fit_plot_idx), init_func=initAnim,\n",
    "                                 interval=1000, blit=True)\n",
    "\n",
    "    plt.show()\n",
    "    "
   ]
  },
  {
   "cell_type": "code",
   "execution_count": null,
   "metadata": {},
   "outputs": [],
   "source": []
  }
 ],
 "metadata": {
  "kernelspec": {
   "display_name": "Python 3",
   "language": "python",
   "name": "python3"
  },
  "language_info": {
   "codemirror_mode": {
    "name": "ipython",
    "version": 3
   },
   "file_extension": ".py",
   "mimetype": "text/x-python",
   "name": "python",
   "nbconvert_exporter": "python",
   "pygments_lexer": "ipython3",
   "version": "3.7.4"
  }
 },
 "nbformat": 4,
 "nbformat_minor": 2
}
